{
  "nbformat": 4,
  "nbformat_minor": 0,
  "metadata": {
    "colab": {
      "provenance": []
    },
    "kernelspec": {
      "name": "python3",
      "display_name": "Python 3"
    },
    "language_info": {
      "name": "python"
    }
  },
  "cells": [
    {
      "cell_type": "code",
      "execution_count": 63,
      "metadata": {
        "id": "e3zA1hIHX7Qk"
      },
      "outputs": [],
      "source": [
        "import pandas as pd\n",
        "\n",
        "sku_trained = pd.read_csv(\"/content/MTSos Priority-1 - Trained SKU(48).csv\")\n",
        "sku_new = pd.read_csv(\"/content/MTSos Priority-1 - New SKU(60).csv\")"
      ]
    },
    {
      "cell_type": "markdown",
      "source": [
        "## sku_trained"
      ],
      "metadata": {
        "id": "dIb0wd7mhIEh"
      }
    },
    {
      "cell_type": "code",
      "source": [
        "sku_trained.columns"
      ],
      "metadata": {
        "colab": {
          "base_uri": "https://localhost:8080/"
        },
        "id": "3oa6Wa3bZ4zr",
        "outputId": "08f31292-fb9b-465b-995e-66c76a2cc54b"
      },
      "execution_count": 85,
      "outputs": [
        {
          "output_type": "execute_result",
          "data": {
            "text/plain": [
              "Index(['Company', 'Category', 'Brand', 'Product', 'SKU Name', 'Trained/New',\n",
              "       'Ai_name', 'Model_name', 'Pcket Item', 'Pack Size'],\n",
              "      dtype='object')"
            ]
          },
          "metadata": {},
          "execution_count": 85
        }
      ]
    },
    {
      "cell_type": "code",
      "source": [
        "sku_trained"
      ],
      "metadata": {
        "colab": {
          "base_uri": "https://localhost:8080/",
          "height": 770
        },
        "id": "fJqNI9mla0sw",
        "outputId": "d5dcf033-d9c4-433b-f280-b83e54e36823"
      },
      "execution_count": 86,
      "outputs": [
        {
          "output_type": "execute_result",
          "data": {
            "text/plain": [
              "      Company              Category     Brand  \\\n",
              "0    Unilever  FUNCTIONAL NUTRITION     BOOST   \n",
              "1    Unilever  FUNCTIONAL NUTRITION  HORLICKS   \n",
              "2    Unilever  FUNCTIONAL NUTRITION  HORLICKS   \n",
              "3    Unilever  FUNCTIONAL NUTRITION  HORLICKS   \n",
              "4    Unilever  FUNCTIONAL NUTRITION  HORLICKS   \n",
              "..        ...                   ...       ...   \n",
              "111  Unilever        SKIN CLEANSING       LUX   \n",
              "112  Unilever        SKIN CLEANSING       LUX   \n",
              "113  Unilever        SKIN CLEANSING       LUX   \n",
              "114  Unilever        SKIN CLEANSING       LUX   \n",
              "115  Unilever        SKIN CLEANSING       LUX   \n",
              "\n",
              "                                 Product  \\\n",
              "0            BOOST FUNC NTR STANDARD JAR   \n",
              "1        HORLICKS FUNC NTR CHOCOLATE JAR   \n",
              "2               HORLICKS FUNC NTR JUNIOR   \n",
              "3               HORLICKS FUNC NTR MOTHER   \n",
              "4              HORLICKS FUNC NTR STD JAR   \n",
              "..                                   ...   \n",
              "111    LUX SKIN CLEANSING BAR SOFT TOUCH   \n",
              "112  LUX SKIN CLEANSING BAR VELVET TOUCH   \n",
              "113  LUX SKIN CLEANSING BAR VELVET TOUCH   \n",
              "114  LUX SKIN CLEANSING BAR VELVET TOUCH   \n",
              "115  LUX SKIN CLEANSING BAR VELVET TOUCH   \n",
              "\n",
              "                                      SKU Name Trained/New          Ai_name  \\\n",
              "0             BOOST FUNC NTR STANDARD JAR 400G     Trained        boost_std   \n",
              "1         HORLICKS FUNC NTR CHOCOLATE JAR 500G     Trained   horlicks_choco   \n",
              "2    HORLICKS FUNC NTR JUNIOR STAGE-2 JAR 500G     Trained  horlicks_junior   \n",
              "3            HORLICKS FUNC NTR MOTHER BIB 350G     Trained  horlicks_mother   \n",
              "4              HORLICKS FUNC NTR STD JAR 1000G     Trained     horlicks_std   \n",
              "..                                         ...         ...              ...   \n",
              "111      LUX SKIN CLEANSING BAR SOFT TOUCH 75G     Trained              LUX   \n",
              "112   LUX SKIN CLEANSING BAR VELVET TOUCH 100G     Trained              LUX   \n",
              "113   LUX SKIN CLEANSING BAR VELVET TOUCH 125G     Trained              LUX   \n",
              "114   LUX SKIN CLEANSING BAR VELVET TOUCH 150G     Trained              LUX   \n",
              "115    LUX SKIN CLEANSING BAR VELVET TOUCH 75G     Trained              LUX   \n",
              "\n",
              "    Model_name  Pcket Item  Pack Size  \n",
              "0     DA_Model         NaN        400  \n",
              "1     DA_Model         NaN        500  \n",
              "2     DA_Model         NaN        500  \n",
              "3     DA_Model         NaN        350  \n",
              "4     DA_Model         NaN       1000  \n",
              "..         ...         ...        ...  \n",
              "111  Sos_Model         NaN         75  \n",
              "112  Sos_Model         NaN        100  \n",
              "113  Sos_Model         NaN        125  \n",
              "114  Sos_Model         NaN        150  \n",
              "115  Sos_Model         NaN         75  \n",
              "\n",
              "[116 rows x 10 columns]"
            ],
            "text/html": [
              "\n",
              "  <div id=\"df-f8a04edb-396c-418b-a658-e1de365e9233\" class=\"colab-df-container\">\n",
              "    <div>\n",
              "<style scoped>\n",
              "    .dataframe tbody tr th:only-of-type {\n",
              "        vertical-align: middle;\n",
              "    }\n",
              "\n",
              "    .dataframe tbody tr th {\n",
              "        vertical-align: top;\n",
              "    }\n",
              "\n",
              "    .dataframe thead th {\n",
              "        text-align: right;\n",
              "    }\n",
              "</style>\n",
              "<table border=\"1\" class=\"dataframe\">\n",
              "  <thead>\n",
              "    <tr style=\"text-align: right;\">\n",
              "      <th></th>\n",
              "      <th>Company</th>\n",
              "      <th>Category</th>\n",
              "      <th>Brand</th>\n",
              "      <th>Product</th>\n",
              "      <th>SKU Name</th>\n",
              "      <th>Trained/New</th>\n",
              "      <th>Ai_name</th>\n",
              "      <th>Model_name</th>\n",
              "      <th>Pcket Item</th>\n",
              "      <th>Pack Size</th>\n",
              "    </tr>\n",
              "  </thead>\n",
              "  <tbody>\n",
              "    <tr>\n",
              "      <th>0</th>\n",
              "      <td>Unilever</td>\n",
              "      <td>FUNCTIONAL NUTRITION</td>\n",
              "      <td>BOOST</td>\n",
              "      <td>BOOST FUNC NTR STANDARD JAR</td>\n",
              "      <td>BOOST FUNC NTR STANDARD JAR 400G</td>\n",
              "      <td>Trained</td>\n",
              "      <td>boost_std</td>\n",
              "      <td>DA_Model</td>\n",
              "      <td>NaN</td>\n",
              "      <td>400</td>\n",
              "    </tr>\n",
              "    <tr>\n",
              "      <th>1</th>\n",
              "      <td>Unilever</td>\n",
              "      <td>FUNCTIONAL NUTRITION</td>\n",
              "      <td>HORLICKS</td>\n",
              "      <td>HORLICKS FUNC NTR CHOCOLATE JAR</td>\n",
              "      <td>HORLICKS FUNC NTR CHOCOLATE JAR 500G</td>\n",
              "      <td>Trained</td>\n",
              "      <td>horlicks_choco</td>\n",
              "      <td>DA_Model</td>\n",
              "      <td>NaN</td>\n",
              "      <td>500</td>\n",
              "    </tr>\n",
              "    <tr>\n",
              "      <th>2</th>\n",
              "      <td>Unilever</td>\n",
              "      <td>FUNCTIONAL NUTRITION</td>\n",
              "      <td>HORLICKS</td>\n",
              "      <td>HORLICKS FUNC NTR JUNIOR</td>\n",
              "      <td>HORLICKS FUNC NTR JUNIOR STAGE-2 JAR 500G</td>\n",
              "      <td>Trained</td>\n",
              "      <td>horlicks_junior</td>\n",
              "      <td>DA_Model</td>\n",
              "      <td>NaN</td>\n",
              "      <td>500</td>\n",
              "    </tr>\n",
              "    <tr>\n",
              "      <th>3</th>\n",
              "      <td>Unilever</td>\n",
              "      <td>FUNCTIONAL NUTRITION</td>\n",
              "      <td>HORLICKS</td>\n",
              "      <td>HORLICKS FUNC NTR MOTHER</td>\n",
              "      <td>HORLICKS FUNC NTR MOTHER BIB 350G</td>\n",
              "      <td>Trained</td>\n",
              "      <td>horlicks_mother</td>\n",
              "      <td>DA_Model</td>\n",
              "      <td>NaN</td>\n",
              "      <td>350</td>\n",
              "    </tr>\n",
              "    <tr>\n",
              "      <th>4</th>\n",
              "      <td>Unilever</td>\n",
              "      <td>FUNCTIONAL NUTRITION</td>\n",
              "      <td>HORLICKS</td>\n",
              "      <td>HORLICKS FUNC NTR STD JAR</td>\n",
              "      <td>HORLICKS FUNC NTR STD JAR 1000G</td>\n",
              "      <td>Trained</td>\n",
              "      <td>horlicks_std</td>\n",
              "      <td>DA_Model</td>\n",
              "      <td>NaN</td>\n",
              "      <td>1000</td>\n",
              "    </tr>\n",
              "    <tr>\n",
              "      <th>...</th>\n",
              "      <td>...</td>\n",
              "      <td>...</td>\n",
              "      <td>...</td>\n",
              "      <td>...</td>\n",
              "      <td>...</td>\n",
              "      <td>...</td>\n",
              "      <td>...</td>\n",
              "      <td>...</td>\n",
              "      <td>...</td>\n",
              "      <td>...</td>\n",
              "    </tr>\n",
              "    <tr>\n",
              "      <th>111</th>\n",
              "      <td>Unilever</td>\n",
              "      <td>SKIN CLEANSING</td>\n",
              "      <td>LUX</td>\n",
              "      <td>LUX SKIN CLEANSING BAR SOFT TOUCH</td>\n",
              "      <td>LUX SKIN CLEANSING BAR SOFT TOUCH 75G</td>\n",
              "      <td>Trained</td>\n",
              "      <td>LUX</td>\n",
              "      <td>Sos_Model</td>\n",
              "      <td>NaN</td>\n",
              "      <td>75</td>\n",
              "    </tr>\n",
              "    <tr>\n",
              "      <th>112</th>\n",
              "      <td>Unilever</td>\n",
              "      <td>SKIN CLEANSING</td>\n",
              "      <td>LUX</td>\n",
              "      <td>LUX SKIN CLEANSING BAR VELVET TOUCH</td>\n",
              "      <td>LUX SKIN CLEANSING BAR VELVET TOUCH 100G</td>\n",
              "      <td>Trained</td>\n",
              "      <td>LUX</td>\n",
              "      <td>Sos_Model</td>\n",
              "      <td>NaN</td>\n",
              "      <td>100</td>\n",
              "    </tr>\n",
              "    <tr>\n",
              "      <th>113</th>\n",
              "      <td>Unilever</td>\n",
              "      <td>SKIN CLEANSING</td>\n",
              "      <td>LUX</td>\n",
              "      <td>LUX SKIN CLEANSING BAR VELVET TOUCH</td>\n",
              "      <td>LUX SKIN CLEANSING BAR VELVET TOUCH 125G</td>\n",
              "      <td>Trained</td>\n",
              "      <td>LUX</td>\n",
              "      <td>Sos_Model</td>\n",
              "      <td>NaN</td>\n",
              "      <td>125</td>\n",
              "    </tr>\n",
              "    <tr>\n",
              "      <th>114</th>\n",
              "      <td>Unilever</td>\n",
              "      <td>SKIN CLEANSING</td>\n",
              "      <td>LUX</td>\n",
              "      <td>LUX SKIN CLEANSING BAR VELVET TOUCH</td>\n",
              "      <td>LUX SKIN CLEANSING BAR VELVET TOUCH 150G</td>\n",
              "      <td>Trained</td>\n",
              "      <td>LUX</td>\n",
              "      <td>Sos_Model</td>\n",
              "      <td>NaN</td>\n",
              "      <td>150</td>\n",
              "    </tr>\n",
              "    <tr>\n",
              "      <th>115</th>\n",
              "      <td>Unilever</td>\n",
              "      <td>SKIN CLEANSING</td>\n",
              "      <td>LUX</td>\n",
              "      <td>LUX SKIN CLEANSING BAR VELVET TOUCH</td>\n",
              "      <td>LUX SKIN CLEANSING BAR VELVET TOUCH 75G</td>\n",
              "      <td>Trained</td>\n",
              "      <td>LUX</td>\n",
              "      <td>Sos_Model</td>\n",
              "      <td>NaN</td>\n",
              "      <td>75</td>\n",
              "    </tr>\n",
              "  </tbody>\n",
              "</table>\n",
              "<p>116 rows × 10 columns</p>\n",
              "</div>\n",
              "    <div class=\"colab-df-buttons\">\n",
              "\n",
              "  <div class=\"colab-df-container\">\n",
              "    <button class=\"colab-df-convert\" onclick=\"convertToInteractive('df-f8a04edb-396c-418b-a658-e1de365e9233')\"\n",
              "            title=\"Convert this dataframe to an interactive table.\"\n",
              "            style=\"display:none;\">\n",
              "\n",
              "  <svg xmlns=\"http://www.w3.org/2000/svg\" height=\"24px\" viewBox=\"0 -960 960 960\">\n",
              "    <path d=\"M120-120v-720h720v720H120Zm60-500h600v-160H180v160Zm220 220h160v-160H400v160Zm0 220h160v-160H400v160ZM180-400h160v-160H180v160Zm440 0h160v-160H620v160ZM180-180h160v-160H180v160Zm440 0h160v-160H620v160Z\"/>\n",
              "  </svg>\n",
              "    </button>\n",
              "\n",
              "  <style>\n",
              "    .colab-df-container {\n",
              "      display:flex;\n",
              "      gap: 12px;\n",
              "    }\n",
              "\n",
              "    .colab-df-convert {\n",
              "      background-color: #E8F0FE;\n",
              "      border: none;\n",
              "      border-radius: 50%;\n",
              "      cursor: pointer;\n",
              "      display: none;\n",
              "      fill: #1967D2;\n",
              "      height: 32px;\n",
              "      padding: 0 0 0 0;\n",
              "      width: 32px;\n",
              "    }\n",
              "\n",
              "    .colab-df-convert:hover {\n",
              "      background-color: #E2EBFA;\n",
              "      box-shadow: 0px 1px 2px rgba(60, 64, 67, 0.3), 0px 1px 3px 1px rgba(60, 64, 67, 0.15);\n",
              "      fill: #174EA6;\n",
              "    }\n",
              "\n",
              "    .colab-df-buttons div {\n",
              "      margin-bottom: 4px;\n",
              "    }\n",
              "\n",
              "    [theme=dark] .colab-df-convert {\n",
              "      background-color: #3B4455;\n",
              "      fill: #D2E3FC;\n",
              "    }\n",
              "\n",
              "    [theme=dark] .colab-df-convert:hover {\n",
              "      background-color: #434B5C;\n",
              "      box-shadow: 0px 1px 3px 1px rgba(0, 0, 0, 0.15);\n",
              "      filter: drop-shadow(0px 1px 2px rgba(0, 0, 0, 0.3));\n",
              "      fill: #FFFFFF;\n",
              "    }\n",
              "  </style>\n",
              "\n",
              "    <script>\n",
              "      const buttonEl =\n",
              "        document.querySelector('#df-f8a04edb-396c-418b-a658-e1de365e9233 button.colab-df-convert');\n",
              "      buttonEl.style.display =\n",
              "        google.colab.kernel.accessAllowed ? 'block' : 'none';\n",
              "\n",
              "      async function convertToInteractive(key) {\n",
              "        const element = document.querySelector('#df-f8a04edb-396c-418b-a658-e1de365e9233');\n",
              "        const dataTable =\n",
              "          await google.colab.kernel.invokeFunction('convertToInteractive',\n",
              "                                                    [key], {});\n",
              "        if (!dataTable) return;\n",
              "\n",
              "        const docLinkHtml = 'Like what you see? Visit the ' +\n",
              "          '<a target=\"_blank\" href=https://colab.research.google.com/notebooks/data_table.ipynb>data table notebook</a>'\n",
              "          + ' to learn more about interactive tables.';\n",
              "        element.innerHTML = '';\n",
              "        dataTable['output_type'] = 'display_data';\n",
              "        await google.colab.output.renderOutput(dataTable, element);\n",
              "        const docLink = document.createElement('div');\n",
              "        docLink.innerHTML = docLinkHtml;\n",
              "        element.appendChild(docLink);\n",
              "      }\n",
              "    </script>\n",
              "  </div>\n",
              "\n",
              "\n",
              "<div id=\"df-7ddcddfb-baac-4600-9de2-3da5080b3b0b\">\n",
              "  <button class=\"colab-df-quickchart\" onclick=\"quickchart('df-7ddcddfb-baac-4600-9de2-3da5080b3b0b')\"\n",
              "            title=\"Suggest charts\"\n",
              "            style=\"display:none;\">\n",
              "\n",
              "<svg xmlns=\"http://www.w3.org/2000/svg\" height=\"24px\"viewBox=\"0 0 24 24\"\n",
              "     width=\"24px\">\n",
              "    <g>\n",
              "        <path d=\"M19 3H5c-1.1 0-2 .9-2 2v14c0 1.1.9 2 2 2h14c1.1 0 2-.9 2-2V5c0-1.1-.9-2-2-2zM9 17H7v-7h2v7zm4 0h-2V7h2v10zm4 0h-2v-4h2v4z\"/>\n",
              "    </g>\n",
              "</svg>\n",
              "  </button>\n",
              "\n",
              "<style>\n",
              "  .colab-df-quickchart {\n",
              "      --bg-color: #E8F0FE;\n",
              "      --fill-color: #1967D2;\n",
              "      --hover-bg-color: #E2EBFA;\n",
              "      --hover-fill-color: #174EA6;\n",
              "      --disabled-fill-color: #AAA;\n",
              "      --disabled-bg-color: #DDD;\n",
              "  }\n",
              "\n",
              "  [theme=dark] .colab-df-quickchart {\n",
              "      --bg-color: #3B4455;\n",
              "      --fill-color: #D2E3FC;\n",
              "      --hover-bg-color: #434B5C;\n",
              "      --hover-fill-color: #FFFFFF;\n",
              "      --disabled-bg-color: #3B4455;\n",
              "      --disabled-fill-color: #666;\n",
              "  }\n",
              "\n",
              "  .colab-df-quickchart {\n",
              "    background-color: var(--bg-color);\n",
              "    border: none;\n",
              "    border-radius: 50%;\n",
              "    cursor: pointer;\n",
              "    display: none;\n",
              "    fill: var(--fill-color);\n",
              "    height: 32px;\n",
              "    padding: 0;\n",
              "    width: 32px;\n",
              "  }\n",
              "\n",
              "  .colab-df-quickchart:hover {\n",
              "    background-color: var(--hover-bg-color);\n",
              "    box-shadow: 0 1px 2px rgba(60, 64, 67, 0.3), 0 1px 3px 1px rgba(60, 64, 67, 0.15);\n",
              "    fill: var(--button-hover-fill-color);\n",
              "  }\n",
              "\n",
              "  .colab-df-quickchart-complete:disabled,\n",
              "  .colab-df-quickchart-complete:disabled:hover {\n",
              "    background-color: var(--disabled-bg-color);\n",
              "    fill: var(--disabled-fill-color);\n",
              "    box-shadow: none;\n",
              "  }\n",
              "\n",
              "  .colab-df-spinner {\n",
              "    border: 2px solid var(--fill-color);\n",
              "    border-color: transparent;\n",
              "    border-bottom-color: var(--fill-color);\n",
              "    animation:\n",
              "      spin 1s steps(1) infinite;\n",
              "  }\n",
              "\n",
              "  @keyframes spin {\n",
              "    0% {\n",
              "      border-color: transparent;\n",
              "      border-bottom-color: var(--fill-color);\n",
              "      border-left-color: var(--fill-color);\n",
              "    }\n",
              "    20% {\n",
              "      border-color: transparent;\n",
              "      border-left-color: var(--fill-color);\n",
              "      border-top-color: var(--fill-color);\n",
              "    }\n",
              "    30% {\n",
              "      border-color: transparent;\n",
              "      border-left-color: var(--fill-color);\n",
              "      border-top-color: var(--fill-color);\n",
              "      border-right-color: var(--fill-color);\n",
              "    }\n",
              "    40% {\n",
              "      border-color: transparent;\n",
              "      border-right-color: var(--fill-color);\n",
              "      border-top-color: var(--fill-color);\n",
              "    }\n",
              "    60% {\n",
              "      border-color: transparent;\n",
              "      border-right-color: var(--fill-color);\n",
              "    }\n",
              "    80% {\n",
              "      border-color: transparent;\n",
              "      border-right-color: var(--fill-color);\n",
              "      border-bottom-color: var(--fill-color);\n",
              "    }\n",
              "    90% {\n",
              "      border-color: transparent;\n",
              "      border-bottom-color: var(--fill-color);\n",
              "    }\n",
              "  }\n",
              "</style>\n",
              "\n",
              "  <script>\n",
              "    async function quickchart(key) {\n",
              "      const quickchartButtonEl =\n",
              "        document.querySelector('#' + key + ' button');\n",
              "      quickchartButtonEl.disabled = true;  // To prevent multiple clicks.\n",
              "      quickchartButtonEl.classList.add('colab-df-spinner');\n",
              "      try {\n",
              "        const charts = await google.colab.kernel.invokeFunction(\n",
              "            'suggestCharts', [key], {});\n",
              "      } catch (error) {\n",
              "        console.error('Error during call to suggestCharts:', error);\n",
              "      }\n",
              "      quickchartButtonEl.classList.remove('colab-df-spinner');\n",
              "      quickchartButtonEl.classList.add('colab-df-quickchart-complete');\n",
              "    }\n",
              "    (() => {\n",
              "      let quickchartButtonEl =\n",
              "        document.querySelector('#df-7ddcddfb-baac-4600-9de2-3da5080b3b0b button');\n",
              "      quickchartButtonEl.style.display =\n",
              "        google.colab.kernel.accessAllowed ? 'block' : 'none';\n",
              "    })();\n",
              "  </script>\n",
              "</div>\n",
              "    </div>\n",
              "  </div>\n"
            ]
          },
          "metadata": {},
          "execution_count": 86
        }
      ]
    },
    {
      "cell_type": "code",
      "source": [
        "# NaN value replace with upper value in pandas dataframe\n",
        "sku_trained['Ai_name'] = sku_trained['Ai_name'].fillna(method='ffill')"
      ],
      "metadata": {
        "id": "rVitYZ8s1Phs"
      },
      "execution_count": 87,
      "outputs": []
    },
    {
      "cell_type": "code",
      "source": [
        "# CREATE DICTIONARY WITH DUPLICATE KEYS\n",
        "sku_trained_dict = sku_trained.groupby('Category')['Ai_name'].apply(list).to_dict()\n",
        "sku_trained_dict\n",
        "\n",
        "# REMOVE DUPLICATE VALUES IN EACH KEYS\n",
        "for key, values in sku_trained_dict.items():\n",
        "    sku_trained_dict[key] = list(set(values))\n",
        "\n",
        "sku_trained_dict"
      ],
      "metadata": {
        "colab": {
          "base_uri": "https://localhost:8080/"
        },
        "id": "Qv_7AOZGezwf",
        "outputId": "a8c00f0b-fd6f-4117-e85b-8634a2528ddf"
      },
      "execution_count": 88,
      "outputs": [
        {
          "output_type": "execute_result",
          "data": {
            "text/plain": [
              "{'FUNCTIONAL NUTRITION': ['horlicks_std',\n",
              "  'horlicks_women',\n",
              "  'horlicks_choco',\n",
              "  'maltova_std',\n",
              "  'horlicks_mother',\n",
              "  'horlicks_lite',\n",
              "  'horlicks_junior',\n",
              "  'boost_std'],\n",
              " 'HAIR CARE': ['tresemme_ks_small',\n",
              "  'sunsilk_volume',\n",
              "  'clear_cac',\n",
              "  'sunsilk_hrr',\n",
              "  'dove_hfr_large',\n",
              "  'dove_irp_large',\n",
              "  'clear_ahf',\n",
              "  'sunsilk_black_large',\n",
              "  'dove_hfr_small',\n",
              "  'dove_cond',\n",
              "  'clear_csm_small',\n",
              "  'sunsilk_hfs',\n",
              "  'sunsilk_tl_small',\n",
              "  'sunsilk_black_small',\n",
              "  'sunsilk_fresh',\n",
              "  'dove_no',\n",
              "  'sunsilk_tl_large',\n",
              "  'dove_irp_small',\n",
              "  'tresemme_cr',\n",
              "  'tresemme_ks_large',\n",
              "  'dove_hg',\n",
              "  'clear_csm_large'],\n",
              " 'ORAL CARE': ['pepsodent', 'CLOSE UP'],\n",
              " 'SKIN CARE': ['PONDS',\n",
              "  'ponds_pure_white_clay_fw',\n",
              "  'ponds_white_beauty_crm',\n",
              "  'gl_mltvit_crm',\n",
              "  'vaseline_hw',\n",
              "  'vaseline_aloe',\n",
              "  'vaseline_tm',\n",
              "  'ponds_white_beauty_clay_fw',\n",
              "  'gl_aryuvedic_crm',\n",
              "  'ponds_oil_control_fw',\n",
              "  'gl_foundation_crm',\n",
              "  'ponds_white_beauty_fw',\n",
              "  'gl_insta_glow_fw',\n",
              "  'ponds_pure_white_fw'],\n",
              " 'SKIN CLEANSING': ['LUX', 'LIFEBUOY']}"
            ]
          },
          "metadata": {},
          "execution_count": 88
        }
      ]
    },
    {
      "cell_type": "code",
      "source": [
        "# COUNT TOTAL VALUES IN EACH KEYS\n",
        "for key, values in sku_trained_dict.items():\n",
        "    total_value = len(values)\n",
        "    print(f\"{key} = {total_value}\")"
      ],
      "metadata": {
        "colab": {
          "base_uri": "https://localhost:8080/"
        },
        "id": "fTS8lc3wgbjG",
        "outputId": "fb64aae4-1973-4a5c-dfd8-b86b8ee82f76"
      },
      "execution_count": 89,
      "outputs": [
        {
          "output_type": "stream",
          "name": "stdout",
          "text": [
            "FUNCTIONAL NUTRITION = 8\n",
            "HAIR CARE = 22\n",
            "ORAL CARE = 2\n",
            "SKIN CARE = 14\n",
            "SKIN CLEANSING = 2\n"
          ]
        }
      ]
    },
    {
      "cell_type": "code",
      "source": [
        "# CREATE DICTIONARY WITH DUPLICATE KEYS\n",
        "model_trained_dict = sku_trained.groupby('Model_name')['Ai_name'].apply(list).to_dict()\n",
        "model_trained_dict\n",
        "\n",
        "\n",
        "# REMOVE DUPLICATE VALUES IN EACH KEYS\n",
        "for key, values in model_trained_dict.items():\n",
        "    model_trained_dict[key] = list(set(values))\n",
        "\n",
        "model_trained_dict"
      ],
      "metadata": {
        "colab": {
          "base_uri": "https://localhost:8080/"
        },
        "id": "eAWgJ09j1xqG",
        "outputId": "c1e7d820-1044-4a1f-bc33-9b9acab3a45f"
      },
      "execution_count": 90,
      "outputs": [
        {
          "output_type": "execute_result",
          "data": {
            "text/plain": [
              "{'DA_Model': ['ponds_pure_white_clay_fw',\n",
              "  'tresemme_ks_small',\n",
              "  'ponds_white_beauty_crm',\n",
              "  'sunsilk_volume',\n",
              "  'clear_cac',\n",
              "  'horlicks_choco',\n",
              "  'horlicks_mother',\n",
              "  'sunsilk_hrr',\n",
              "  'dove_hfr_large',\n",
              "  'horlicks_lite',\n",
              "  'dove_irp_large',\n",
              "  'pepsodent',\n",
              "  'clear_ahf',\n",
              "  'gl_insta_glow_fw',\n",
              "  'sunsilk_black_large',\n",
              "  'boost_std',\n",
              "  'dove_hfr_small',\n",
              "  'horlicks_std',\n",
              "  'gl_mltvit_crm',\n",
              "  'ponds_white_beauty_clay_fw',\n",
              "  'dove_cond',\n",
              "  'gl_aryuvedic_crm',\n",
              "  'clear_csm_small',\n",
              "  'gl_foundation_crm',\n",
              "  'ponds_white_beauty_fw',\n",
              "  'ponds_pure_white_fw',\n",
              "  'horlicks_women',\n",
              "  'maltova_std',\n",
              "  'sunsilk_hfs',\n",
              "  'sunsilk_tl_small',\n",
              "  'sunsilk_black_small',\n",
              "  'horlicks_junior',\n",
              "  'dove_no',\n",
              "  'sunsilk_fresh',\n",
              "  'sunsilk_tl_large',\n",
              "  'dove_irp_small',\n",
              "  'tresemme_cr',\n",
              "  'tresemme_ks_large',\n",
              "  'dove_hg',\n",
              "  'ponds_oil_control_fw',\n",
              "  'clear_csm_large'],\n",
              " 'QPDS': ['vaseline_tm', 'vaseline_aloe', 'vaseline_hw'],\n",
              " 'Sos_Model': ['PONDS', 'LUX', 'LIFEBUOY', 'CLOSE UP']}"
            ]
          },
          "metadata": {},
          "execution_count": 90
        }
      ]
    },
    {
      "cell_type": "code",
      "source": [
        "# COUNT TOTAL VALUES IN EACH KEYS\n",
        "for key, values in sku_trained_dict.items():\n",
        "    total_value = len(values)\n",
        "    print(f\"{key} = {total_value}\")"
      ],
      "metadata": {
        "colab": {
          "base_uri": "https://localhost:8080/"
        },
        "id": "c7vw0bKY19E9",
        "outputId": "f562369c-3945-4e94-c533-60c54626e179"
      },
      "execution_count": 91,
      "outputs": [
        {
          "output_type": "stream",
          "name": "stdout",
          "text": [
            "FUNCTIONAL NUTRITION = 8\n",
            "HAIR CARE = 22\n",
            "ORAL CARE = 2\n",
            "SKIN CARE = 14\n",
            "SKIN CLEANSING = 2\n"
          ]
        }
      ]
    },
    {
      "cell_type": "markdown",
      "source": [
        "## sku_new"
      ],
      "metadata": {
        "id": "ZXeYjtWWhP61"
      }
    },
    {
      "cell_type": "code",
      "source": [
        "sku_new.columns"
      ],
      "metadata": {
        "colab": {
          "base_uri": "https://localhost:8080/"
        },
        "id": "F19HCnVshROG",
        "outputId": "af5492c5-dc93-4f3f-b111-eb619c9d3985"
      },
      "execution_count": 92,
      "outputs": [
        {
          "output_type": "execute_result",
          "data": {
            "text/plain": [
              "Index(['Category', 'Brand', 'SKU Name', 'AI Name', 'Unnamed: 4'], dtype='object')"
            ]
          },
          "metadata": {},
          "execution_count": 92
        }
      ]
    },
    {
      "cell_type": "code",
      "source": [
        "# NaN value replace with upper value in pandas dataframe\n",
        "sku_new['AI Name'] = sku_new['AI Name'].fillna(method='ffill')"
      ],
      "metadata": {
        "id": "m_Ci4sp-1gKj"
      },
      "execution_count": 93,
      "outputs": []
    },
    {
      "cell_type": "code",
      "source": [
        "sku_new_dict = sku_new.groupby('Category')['AI Name'].apply(list).to_dict()\n",
        "sku_new_dict\n",
        "\n",
        "for key, values in sku_new_dict.items():\n",
        "    sku_new_dict[key] = list(set(values))  # Convert to set to remove duplicates, then back to list\n",
        "\n",
        "sku_new_dict"
      ],
      "metadata": {
        "colab": {
          "base_uri": "https://localhost:8080/"
        },
        "id": "R1QvaHU2e8cW",
        "outputId": "791ff673-42ab-4ac0-9a28-09e7fd7be20a"
      },
      "execution_count": 94,
      "outputs": [
        {
          "output_type": "execute_result",
          "data": {
            "text/plain": [
              "{'FABRIC CLEANING': ['rin_pwdr',\n",
              "  'wheel_pwdr',\n",
              "  'surfxl_pwdr',\n",
              "  'rin_lqd',\n",
              "  'wheel_soap',\n",
              "  'surfxl_lqd'],\n",
              " 'FUNCTIONAL NUTRITION': ['horlicks_pouch',\n",
              "  'horlicks_jr_jar_1',\n",
              "  'glucomax_d',\n",
              "  'horlicks_jr_bib_2'],\n",
              " 'HAIR CARE': ['dove_oxy',\n",
              "  'dove_hijab',\n",
              "  'tresemme_nr',\n",
              "  'tresemme_ks_wt',\n",
              "  'sunsilk_perfect',\n",
              "  'tresemme_hd',\n",
              "  'clinic_strong'],\n",
              " 'HOME & HYGIENE': ['domex_lime',\n",
              "  'vim_bar',\n",
              "  'vim_bottle',\n",
              "  'vim_packet',\n",
              "  'vim_pwdr',\n",
              "  'domex_ocen',\n",
              "  'vim_gallon'],\n",
              " 'ORAL CARE': ['pepsodent_pwdr'],\n",
              " 'SAVOURY': ['knorr_hot_sour',\n",
              "  'knorr_frd_chicken',\n",
              "  'knorr_thai',\n",
              "  'knorr_corn'],\n",
              " 'SKIN CARE': ['ponds_moist_body',\n",
              "  'ponds_cold_crm',\n",
              "  'vaseline_ln_white_lc',\n",
              "  'ponds_oil_cntr_fw',\n",
              "  'ponds_lgt_oil_fw',\n",
              "  'vaseline_petro_cocoa',\n",
              "  'vaseline_petro',\n",
              "  'ponds_super_lgt',\n",
              "  'gl_men_crm',\n",
              "  'ponds_antibac',\n",
              "  'vaseline_mosq',\n",
              "  'vaseline_petro_aloe',\n",
              "  'vaseline_total_moist',\n",
              "  'ponds_van_crm',\n",
              "  'gl_men_fw',\n",
              "  'gl_wntr_crm'],\n",
              " 'SKIN CLEANSING': ['lb_red_packet',\n",
              "  'lb_blue_packet',\n",
              "  'lb_lmn_packet',\n",
              "  'dove_white',\n",
              "  'lb_red_handwash',\n",
              "  'lux_soft',\n",
              "  'lb_red_bottle_1l',\n",
              "  'lux_orchd',\n",
              "  'lb_lmn_handwash',\n",
              "  'lb_lmn_bottle_1l',\n",
              "  'dove_pink',\n",
              "  'lux_almond',\n",
              "  'lux_aloe',\n",
              "  'lb_blue_handwash',\n",
              "  'lb_red_gallon_5l']}"
            ]
          },
          "metadata": {},
          "execution_count": 94
        }
      ]
    },
    {
      "cell_type": "code",
      "source": [
        "for key, values in sku_new_dict.items():\n",
        "    total_value = len(values)\n",
        "    print(f\"{key} = {total_value}\")"
      ],
      "metadata": {
        "colab": {
          "base_uri": "https://localhost:8080/"
        },
        "id": "t0bfGp8Qez2-",
        "outputId": "9c16aa03-98e6-4466-aee9-aae6a64cb6f6"
      },
      "execution_count": 95,
      "outputs": [
        {
          "output_type": "stream",
          "name": "stdout",
          "text": [
            "FABRIC CLEANING = 6\n",
            "FUNCTIONAL NUTRITION = 4\n",
            "HAIR CARE = 7\n",
            "HOME & HYGIENE = 7\n",
            "ORAL CARE = 1\n",
            "SAVOURY = 4\n",
            "SKIN CARE = 16\n",
            "SKIN CLEANSING = 15\n"
          ]
        }
      ]
    },
    {
      "cell_type": "markdown",
      "source": [
        "## Merge Two Dictionary"
      ],
      "metadata": {
        "id": "UCDGw9Dpoj9B"
      }
    },
    {
      "cell_type": "code",
      "source": [
        "def merge_dicts_unique(dict1, dict2):\n",
        "  \"\"\"\n",
        "  Merges two dictionaries with duplicate keys and values (lists of strings),\n",
        "  maintaining unique keys and unique values within each key.\n",
        "\n",
        "  Args:\n",
        "      dict1: The first dictionary.\n",
        "      dict2: The second dictionary.\n",
        "\n",
        "  Returns:\n",
        "      A new dictionary with unique keys and unique values within each key.\n",
        "  \"\"\"\n",
        "  merged_dict = {}\n",
        "  for key in set(dict1.keys()) | set(dict2.keys()):\n",
        "    merged_dict[key] = list(set(dict1.get(key, []) + dict2.get(key, [])))  # Combine values and remove duplicates\n",
        "  return merged_dict\n",
        "\n",
        "# Merge dictionaries and get unique keys and values\n",
        "merged_dict = merge_dicts_unique(sku_trained_dict, sku_new_dict)\n",
        "merged_dict"
      ],
      "metadata": {
        "colab": {
          "base_uri": "https://localhost:8080/"
        },
        "id": "K8jSuYnmonHu",
        "outputId": "6dc83483-e0e5-49d3-fd0e-a0fe941c8c4b"
      },
      "execution_count": 96,
      "outputs": [
        {
          "output_type": "execute_result",
          "data": {
            "text/plain": [
              "{'FUNCTIONAL NUTRITION': ['horlicks_std',\n",
              "  'horlicks_pouch',\n",
              "  'horlicks_jr_jar_1',\n",
              "  'horlicks_women',\n",
              "  'glucomax_d',\n",
              "  'maltova_std',\n",
              "  'horlicks_choco',\n",
              "  'horlicks_mother',\n",
              "  'horlicks_jr_bib_2',\n",
              "  'horlicks_lite',\n",
              "  'horlicks_junior',\n",
              "  'boost_std'],\n",
              " 'HAIR CARE': ['tresemme_ks_small',\n",
              "  'sunsilk_volume',\n",
              "  'clear_cac',\n",
              "  'tresemme_ks_wt',\n",
              "  'sunsilk_hrr',\n",
              "  'dove_hfr_large',\n",
              "  'dove_irp_large',\n",
              "  'clear_ahf',\n",
              "  'sunsilk_black_large',\n",
              "  'clinic_strong',\n",
              "  'dove_hfr_small',\n",
              "  'dove_cond',\n",
              "  'clear_csm_small',\n",
              "  'sunsilk_perfect',\n",
              "  'tresemme_hd',\n",
              "  'sunsilk_hfs',\n",
              "  'sunsilk_tl_small',\n",
              "  'sunsilk_black_small',\n",
              "  'dove_no',\n",
              "  'sunsilk_fresh',\n",
              "  'dove_oxy',\n",
              "  'sunsilk_tl_large',\n",
              "  'dove_irp_small',\n",
              "  'tresemme_cr',\n",
              "  'dove_hijab',\n",
              "  'tresemme_ks_large',\n",
              "  'tresemme_nr',\n",
              "  'dove_hg',\n",
              "  'clear_csm_large'],\n",
              " 'SKIN CLEANSING': ['lb_red_packet',\n",
              "  'LIFEBUOY',\n",
              "  'lb_blue_packet',\n",
              "  'lb_lmn_packet',\n",
              "  'dove_white',\n",
              "  'lb_red_handwash',\n",
              "  'lux_soft',\n",
              "  'lb_red_bottle_1l',\n",
              "  'lux_orchd',\n",
              "  'lb_lmn_handwash',\n",
              "  'LUX',\n",
              "  'lb_lmn_bottle_1l',\n",
              "  'dove_pink',\n",
              "  'lux_almond',\n",
              "  'lux_aloe',\n",
              "  'lb_blue_handwash',\n",
              "  'lb_red_gallon_5l'],\n",
              " 'SKIN CARE': ['PONDS',\n",
              "  'ponds_pure_white_clay_fw',\n",
              "  'ponds_white_beauty_crm',\n",
              "  'vaseline_petro_cocoa',\n",
              "  'gl_men_crm',\n",
              "  'vaseline_ln_white_lc',\n",
              "  'vaseline_total_moist',\n",
              "  'gl_insta_glow_fw',\n",
              "  'gl_men_fw',\n",
              "  'gl_mltvit_crm',\n",
              "  'ponds_cold_crm',\n",
              "  'vaseline_hw',\n",
              "  'ponds_white_beauty_clay_fw',\n",
              "  'gl_aryuvedic_crm',\n",
              "  'ponds_super_lgt',\n",
              "  'ponds_antibac',\n",
              "  'gl_foundation_crm',\n",
              "  'ponds_white_beauty_fw',\n",
              "  'ponds_pure_white_fw',\n",
              "  'gl_wntr_crm',\n",
              "  'ponds_oil_cntr_fw',\n",
              "  'ponds_lgt_oil_fw',\n",
              "  'vaseline_aloe',\n",
              "  'vaseline_mosq',\n",
              "  'ponds_moist_body',\n",
              "  'vaseline_tm',\n",
              "  'vaseline_petro',\n",
              "  'ponds_oil_control_fw',\n",
              "  'vaseline_petro_aloe',\n",
              "  'ponds_van_crm'],\n",
              " 'ORAL CARE': ['pepsodent', 'CLOSE UP', 'pepsodent_pwdr'],\n",
              " 'FABRIC CLEANING': ['rin_pwdr',\n",
              "  'wheel_pwdr',\n",
              "  'surfxl_pwdr',\n",
              "  'rin_lqd',\n",
              "  'wheel_soap',\n",
              "  'surfxl_lqd'],\n",
              " 'SAVOURY': ['knorr_hot_sour',\n",
              "  'knorr_thai',\n",
              "  'knorr_frd_chicken',\n",
              "  'knorr_corn'],\n",
              " 'HOME & HYGIENE': ['domex_lime',\n",
              "  'vim_bar',\n",
              "  'vim_bottle',\n",
              "  'vim_packet',\n",
              "  'vim_pwdr',\n",
              "  'domex_ocen',\n",
              "  'vim_gallon']}"
            ]
          },
          "metadata": {},
          "execution_count": 96
        }
      ]
    },
    {
      "cell_type": "code",
      "source": [
        "for key, values in merged_dict.items():\n",
        "    total_value = len(values)\n",
        "    print(f\"{key} = {total_value}\")"
      ],
      "metadata": {
        "colab": {
          "base_uri": "https://localhost:8080/"
        },
        "id": "tfUcCUKWo8Qr",
        "outputId": "dff65347-843f-49dd-c86f-92dfc4ee143c"
      },
      "execution_count": 60,
      "outputs": [
        {
          "output_type": "stream",
          "name": "stdout",
          "text": [
            "FUNCTIONAL NUTRITION = 14\n",
            "HAIR CARE = 31\n",
            "ORAL CARE = 5\n",
            "SKIN CARE = 32\n",
            "SKIN CLEANSING = 19\n",
            "FABRIC CLEANING = 6\n",
            "HOME & HYGIENE = 7\n",
            "SAVOURY = 4\n"
          ]
        }
      ]
    },
    {
      "cell_type": "code",
      "source": [
        "for key, values in sku_trained_dict.items():\n",
        "    total_value = len(values)\n",
        "    print(f\"{key} = {total_value}\")"
      ],
      "metadata": {
        "colab": {
          "base_uri": "https://localhost:8080/"
        },
        "id": "vBxt98uFwQ3l",
        "outputId": "58a6c06c-d413-483e-b952-570324525c0d"
      },
      "execution_count": 51,
      "outputs": [
        {
          "output_type": "stream",
          "name": "stdout",
          "text": [
            "FUNCTIONAL NUTRITION = 10\n",
            "HAIR CARE = 24\n",
            "ORAL CARE = 4\n",
            "SKIN CARE = 16\n",
            "SKIN CLEANSING = 4\n"
          ]
        }
      ]
    },
    {
      "cell_type": "code",
      "source": [
        "for key, values in sku_new_dict.items():\n",
        "    total_value = len(values)\n",
        "    print(f\"{key} = {total_value}\")"
      ],
      "metadata": {
        "colab": {
          "base_uri": "https://localhost:8080/"
        },
        "id": "_ung582cwP1b",
        "outputId": "5cf22755-e522-490c-c36e-cdc2d5fc896a"
      },
      "execution_count": 50,
      "outputs": [
        {
          "output_type": "stream",
          "name": "stdout",
          "text": [
            "FABRIC CLEANING = 6\n",
            "FUNCTIONAL NUTRITION = 4\n",
            "HAIR CARE = 7\n",
            "HOME & HYGIENE = 7\n",
            "ORAL CARE = 1\n",
            "SAVOURY = 4\n",
            "SKIN CARE = 16\n",
            "SKIN CLEANSING = 15\n"
          ]
        }
      ]
    }
  ]
}